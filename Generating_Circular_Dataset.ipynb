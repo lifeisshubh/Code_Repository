{
 "cells": [
  {
   "cell_type": "markdown",
   "metadata": {},
   "source": [
    "# Two class Circular Data Generator"
   ]
  },
  {
   "cell_type": "markdown",
   "metadata": {},
   "source": [
    "Here i am trying to 2 class circular data in which one class will be lie at the center\n",
    "While other class will streach across a length"
   ]
  },
  {
   "cell_type": "markdown",
   "metadata": {},
   "source": [
    "## Importing Libraries"
   ]
  },
  {
   "cell_type": "code",
   "execution_count": 1,
   "metadata": {},
   "outputs": [],
   "source": [
    "import random\n",
    "import numpy as np\n",
    "import matplotlib.pyplot as plt\n",
    "from matplotlib import font_manager\n",
    "font_manager._rebuild()\n",
    "from matplotlib.colors import LinearSegmentedColormap\n",
    "from sklearn import preprocessing\n",
    "from matplotlib import rcParams\n",
    "import pandas as pd"
   ]
  },
  {
   "cell_type": "markdown",
   "metadata": {},
   "source": [
    "### Setting fonts\n",
    "Does not required it, but doing it anyway"
   ]
  },
  {
   "cell_type": "code",
   "execution_count": 2,
   "metadata": {},
   "outputs": [],
   "source": [
    "rcParams['font.family'] = 'sans-serif'\n",
    "rcParams['font.sans-serif'] = ['Open Sans']"
   ]
  },
  {
   "cell_type": "markdown",
   "metadata": {},
   "source": [
    "## Main Code"
   ]
  },
  {
   "cell_type": "code",
   "execution_count": 3,
   "metadata": {},
   "outputs": [],
   "source": [
    "# Fixing random state for reproducibility\n",
    "np.random.seed(19680801)\n",
    "\n",
    "# defining the center of the circle\n",
    "circle_x = 5\n",
    "circle_y = 10\n",
    "\n",
    "# The outer class\n",
    "N1 = 100 # The no. of points you want to generate for outer class.\n",
    "ps1 = 5 # min outer radious\n",
    "s1 = 4 # The spread for the radious.\n",
    "r = ps1 + s1 * np.random.rand(N1) # This line will generate no of random value in that range \n",
    "theta = 2 * np.pi * np.random.rand(N1) # This line will generate no of random angle value that is require for cicle\n",
    "\n",
    "# parameteric equation for circle\n",
    "x = r * np.cos(theta) + circle_x \n",
    "y = r * np.sin(theta) + circle_y \n",
    "\n",
    "# The inner class\n",
    "N2 = 20 # The no. of point for inner class\n",
    "\n",
    "ps2 = 0 # Since we want spread around center, for two circle you can increase it.\n",
    "s2 = 1 # Spread for class 2\n",
    "\n",
    "r2 = ps2 + s2 * np.random.rand(N2) \n",
    "theta = 2 * np.pi * np.random.rand(N2) \n",
    "x2 = r2 * np.cos(theta) + circle_x\n",
    "y2 = 2 * np.sin(theta) + circle_y\n",
    "\n",
    "# converting in standard dataset form\n",
    "data1 = np.array([x,y])\n",
    "data2 = np.array([x2,y2])\n",
    "\n",
    "data = np.concatenate((data1,data2),axis=1)\n",
    "data = data.T\n",
    "\n",
    "\n",
    "# assigning class label\n",
    "res1 = 0*np.ones(N1)\n",
    "res2 = 1*np.ones(N2)\n",
    " \n",
    "res = np.concatenate((res1,res2))"
   ]
  },
  {
   "cell_type": "markdown",
   "metadata": {},
   "source": [
    "## Storing data into dataframe "
   ]
  },
  {
   "cell_type": "code",
   "execution_count": 4,
   "metadata": {},
   "outputs": [],
   "source": [
    "data_f = pd.DataFrame()\n",
    "data_f['x1'] = data[:,0]\n",
    "data_f['x2'] = data[:,1]\n",
    "data_f['label'] = res"
   ]
  },
  {
   "cell_type": "markdown",
   "metadata": {},
   "source": [
    "## Saving data to CSV"
   ]
  },
  {
   "cell_type": "code",
   "execution_count": 5,
   "metadata": {},
   "outputs": [],
   "source": [
    "data_f.to_csv('circular_dataset.csv')"
   ]
  },
  {
   "cell_type": "code",
   "execution_count": null,
   "metadata": {},
   "outputs": [],
   "source": []
  }
 ],
 "metadata": {
  "kernelspec": {
   "display_name": "Python 3",
   "language": "python",
   "name": "python3"
  },
  "language_info": {
   "codemirror_mode": {
    "name": "ipython",
    "version": 3
   },
   "file_extension": ".py",
   "mimetype": "text/x-python",
   "name": "python",
   "nbconvert_exporter": "python",
   "pygments_lexer": "ipython3",
   "version": "3.6.5"
  }
 },
 "nbformat": 4,
 "nbformat_minor": 2
}
